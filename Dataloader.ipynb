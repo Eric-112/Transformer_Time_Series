{
 "cells": [
  {
   "cell_type": "code",
   "execution_count": 1,
   "metadata": {},
   "outputs": [],
   "source": [
    "import torch\n",
    "import matplotlib.pyplot as plt\n",
    "import numpy as np"
   ]
  },
  {
   "cell_type": "code",
   "execution_count": 2,
   "metadata": {},
   "outputs": [],
   "source": [
    "from torch.utils.data import Dataset"
   ]
  },
  {
   "cell_type": "code",
   "execution_count": 3,
   "metadata": {},
   "outputs": [],
   "source": [
    "class time_series_paper(Dataset):\n",
    "    \"\"\"synthetic time series dataset from section 5.1\"\"\"\n",
    "    \n",
    "    def __init__(self,t0=96,N=4500,transform=None):\n",
    "        \"\"\"\n",
    "        Args:\n",
    "            t0: previous t0 data points to predict from\n",
    "            N: number of data points\n",
    "            transform: any transformations to be applied to time series\n",
    "        \"\"\"\n",
    "        self.t0 = t0\n",
    "        self.N = N\n",
    "        self.transform = None\n",
    "        \n",
    "        # time points\n",
    "        self.x = torch.cat(N*[torch.arange(0,t0+24).type(torch.float).unsqueeze(0)])\n",
    "\n",
    "        # sinuisoidal signal\n",
    "        A1,A2,A3 = 60 * torch.rand(3,N)\n",
    "        A4 = torch.max(A1,A2)        \n",
    "        self.fx = torch.cat([A1.unsqueeze(1)*torch.sin(np.pi*self.x[0,0:12]/6)+72 ,\n",
    "                        A2.unsqueeze(1)*torch.sin(np.pi*self.x[0,12:24]/6)+72 ,\n",
    "                        A3.unsqueeze(1)*torch.sin(np.pi*self.x[0,24:t0]/6)+72,\n",
    "                        A4.unsqueeze(1)*torch.sin(np.pi*self.x[0,t0:t0+24]/12)+72],1)\n",
    "                \n",
    "        \n",
    "        # print out shapes to confirm desired output\n",
    "        print(\"x: {}*{}\".format(*list(self.x.shape)),\n",
    "              \"fx: {}*{}\".format(*list(self.fx.shape)))        \n",
    "        \n",
    "    def __len__(self):\n",
    "        return len(self.fx)\n",
    "    \n",
    "    def __getitem__(self,idx):\n",
    "        if torch.is_tensor(idx):\n",
    "            idx = idx.tolist()\n",
    "            \n",
    "        sample = {\"x\":self.x[idx,0:t0],\n",
    "                  \"x_next\":self.x[idx,:t0:t0+24],\n",
    "                  \"fx\": self.fx[idx,0:t0],\n",
    "                  \"fx_next\":self.fx[idx,0:t0+24]}\n",
    "        \n",
    "        if self.transform:\n",
    "            sample=self.transform(sample)\n",
    "            \n",
    "        return sample"
   ]
  },
  {
   "cell_type": "code",
   "execution_count": 4,
   "metadata": {},
   "outputs": [],
   "source": [
    "t0 = 96\n",
    "N = 100"
   ]
  },
  {
   "cell_type": "code",
   "execution_count": 5,
   "metadata": {},
   "outputs": [
    {
     "name": "stdout",
     "output_type": "stream",
     "text": [
      "x: 100*120 fx: 100*120\n"
     ]
    }
   ],
   "source": [
    "dataset = time_series_paper(t0,N)"
   ]
  },
  {
   "cell_type": "code",
   "execution_count": 6,
   "metadata": {},
   "outputs": [
    {
     "data": {
      "text/plain": [
       "tensor([[ 72.0000,  98.1672, 117.3229,  ...,  34.9940,  45.8328,  58.4550],\n",
       "        [ 72.0000,  99.0903, 118.9218,  ...,  33.6885,  44.9097,  57.9771],\n",
       "        [ 72.0000,  81.7612,  88.9070,  ...,  42.2312,  50.9503,  61.1039],\n",
       "        ...,\n",
       "        [ 72.0000,  90.3159, 103.7241,  ...,  42.8382,  51.3795,  61.3261],\n",
       "        [ 72.0000,  73.0570,  73.8308,  ...,  54.9721,  59.9594,  65.7674],\n",
       "        [ 72.0000,  93.3357, 108.9544,  ...,  35.7390,  46.3596,  58.7276]])"
      ]
     },
     "execution_count": 6,
     "metadata": {},
     "output_type": "execute_result"
    }
   ],
   "source": [
    "dataset.fx"
   ]
  },
  {
   "cell_type": "code",
   "execution_count": 8,
   "metadata": {},
   "outputs": [
    {
     "data": {
      "text/plain": [
       "tensor([[  0.,   1.,   2.,  ..., 117., 118., 119.],\n",
       "        [  0.,   1.,   2.,  ..., 117., 118., 119.],\n",
       "        [  0.,   1.,   2.,  ..., 117., 118., 119.],\n",
       "        ...,\n",
       "        [  0.,   1.,   2.,  ..., 117., 118., 119.],\n",
       "        [  0.,   1.,   2.,  ..., 117., 118., 119.],\n",
       "        [  0.,   1.,   2.,  ..., 117., 118., 119.]])"
      ]
     },
     "execution_count": 8,
     "metadata": {},
     "output_type": "execute_result"
    }
   ],
   "source": [
    "dataset.x"
   ]
  },
  {
   "cell_type": "code",
   "execution_count": 11,
   "metadata": {},
   "outputs": [
    {
     "data": {
      "text/plain": [
       "{'x': tensor([ 0.,  1.,  2.,  3.,  4.,  5.,  6.,  7.,  8.,  9., 10., 11., 12., 13.,\n",
       "         14., 15., 16., 17., 18., 19., 20., 21., 22., 23., 24., 25., 26., 27.,\n",
       "         28., 29., 30., 31., 32., 33., 34., 35., 36., 37., 38., 39., 40., 41.,\n",
       "         42., 43., 44., 45., 46., 47., 48., 49., 50., 51., 52., 53., 54., 55.,\n",
       "         56., 57., 58., 59., 60., 61., 62., 63., 64., 65., 66., 67., 68., 69.,\n",
       "         70., 71., 72., 73., 74., 75., 76., 77., 78., 79., 80., 81., 82., 83.,\n",
       "         84., 85., 86., 87., 88., 89., 90., 91., 92., 93., 94., 95.]),\n",
       " 'x_next': tensor([0.]),\n",
       " 'fx': tensor([ 72.0000,  98.1672, 117.3229, 124.3344, 117.3229,  98.1672,  72.0000,\n",
       "          45.8328,  26.6771,  19.6656,  26.6771,  45.8328,  72.0000,  81.9719,\n",
       "          89.2718,  91.9437,  89.2718,  81.9719,  72.0000,  62.0281,  54.7282,\n",
       "          52.0563,  54.7282,  62.0281,  72.0000,  93.3866, 109.0427, 114.7732,\n",
       "         109.0426,  93.3866,  72.0000,  50.6134,  34.9573,  29.2268,  34.9573,\n",
       "          50.6134,  72.0000,  93.3866, 109.0427, 114.7732, 109.0426,  93.3866,\n",
       "          71.9999,  50.6134,  34.9573,  29.2268,  34.9573,  50.6135,  72.0000,\n",
       "          93.3867, 109.0427, 114.7732, 109.0427,  93.3866,  71.9999,  50.6134,\n",
       "          34.9573,  29.2268,  34.9573,  50.6134,  72.0000,  93.3867, 109.0426,\n",
       "         114.7732, 109.0426,  93.3866,  71.9999,  50.6133,  34.9573,  29.2268,\n",
       "          34.9574,  50.6134,  72.0000,  93.3867, 109.0427, 114.7732, 109.0427,\n",
       "          93.3866,  71.9999,  50.6134,  34.9573,  29.2268,  34.9574,  50.6134,\n",
       "          72.0001,  93.3865, 109.0427, 114.7732, 109.0426,  93.3866,  72.0000,\n",
       "          50.6133,  34.9574,  29.2268,  34.9574,  50.6135]),\n",
       " 'fx_next': tensor([ 72.0000,  98.1672, 117.3229, 124.3344, 117.3229,  98.1672,  72.0000,\n",
       "          45.8328,  26.6771,  19.6656,  26.6771,  45.8328,  72.0000,  81.9719,\n",
       "          89.2718,  91.9437,  89.2718,  81.9719,  72.0000,  62.0281,  54.7282,\n",
       "          52.0563,  54.7282,  62.0281,  72.0000,  93.3866, 109.0427, 114.7732,\n",
       "         109.0426,  93.3866,  72.0000,  50.6134,  34.9573,  29.2268,  34.9573,\n",
       "          50.6134,  72.0000,  93.3866, 109.0427, 114.7732, 109.0426,  93.3866,\n",
       "          71.9999,  50.6134,  34.9573,  29.2268,  34.9573,  50.6135,  72.0000,\n",
       "          93.3867, 109.0427, 114.7732, 109.0427,  93.3866,  71.9999,  50.6134,\n",
       "          34.9573,  29.2268,  34.9573,  50.6134,  72.0000,  93.3867, 109.0426,\n",
       "         114.7732, 109.0426,  93.3866,  71.9999,  50.6133,  34.9573,  29.2268,\n",
       "          34.9574,  50.6134,  72.0000,  93.3867, 109.0427, 114.7732, 109.0427,\n",
       "          93.3866,  71.9999,  50.6134,  34.9573,  29.2268,  34.9574,  50.6134,\n",
       "          72.0001,  93.3865, 109.0427, 114.7732, 109.0426,  93.3866,  72.0000,\n",
       "          50.6133,  34.9574,  29.2268,  34.9574,  50.6135,  72.0000,  85.5452,\n",
       "          98.1673, 109.0060, 117.3229, 122.5512, 124.3344, 122.5511, 117.3229,\n",
       "         109.0060,  98.1672,  85.5451,  71.9999,  58.4549,  45.8328,  34.9940,\n",
       "          26.6770,  21.4488,  19.6656,  21.4489,  26.6771,  34.9940,  45.8328,\n",
       "          58.4550])}"
      ]
     },
     "execution_count": 11,
     "metadata": {},
     "output_type": "execute_result"
    }
   ],
   "source": [
    "dataset[0]"
   ]
  },
  {
   "cell_type": "code",
   "execution_count": 12,
   "metadata": {},
   "outputs": [
    {
     "data": {
      "image/png": "[encoded data removed]",
      "text/plain": [
       "<Figure size 432x288 with 1 Axes>"
      ]
     },
     "metadata": {
      "needs_background": "light"
     },
     "output_type": "display_data"
    }
   ],
   "source": [
    "plt.plot(dataset.x[1].numpy(),dataset.fx[1].numpy())\n",
    "plt.plot(dataset.x[2].numpy(),dataset.fx[2].numpy())\n",
    "plt.show()"
   ]
  }
 ],
 "metadata": {
  "kernelspec": {
   "display_name": "Python 3",
   "language": "python",
   "name": "python3"
  },
  "language_info": {
   "codemirror_mode": {
    "name": "ipython",
    "version": 3
   },
   "file_extension": ".py",
   "mimetype": "text/x-python",
   "name": "python",
   "nbconvert_exporter": "python",
   "pygments_lexer": "ipython3",
   "version": "3.7.3"
  }
 },
 "nbformat": 4,
 "nbformat_minor": 4
}
