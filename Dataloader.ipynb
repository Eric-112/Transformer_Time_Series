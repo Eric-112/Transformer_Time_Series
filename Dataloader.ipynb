{
 "cells": [
  {
   "cell_type": "code",
   "execution_count": 1,
   "metadata": {},
   "outputs": [],
   "source": [
    "import torch\n",
    "import matplotlib.pyplot as plt\n",
    "import numpy as np"
   ]
  },
  {
   "cell_type": "code",
   "execution_count": 84,
   "metadata": {},
   "outputs": [],
   "source": [
    "A1,A2,A3 = 60 * torch.rand(3,10)"
   ]
  },
  {
   "cell_type": "code",
   "execution_count": 85,
   "metadata": {},
   "outputs": [],
   "source": [
    "A4 = torch.max(A1,A2)"
   ]
  },
  {
   "cell_type": "code",
   "execution_count": 89,
   "metadata": {},
   "outputs": [],
   "source": [
    "t0 = 96\n",
    "x = torch.arange(1,t0+24).type(torch.float)"
   ]
  },
  {
   "cell_type": "code",
   "execution_count": 123,
   "metadata": {},
   "outputs": [],
   "source": [
    "fx = torch.cat([A1.unsqueeze(1)*torch.sin(np.pi*x[0:12]/6)+72 , A2.unsqueeze(1)*torch.sin(np.pi*x[12:24]/6)+72 , A3.unsqueeze(1)*torch.sin(np.pi*x[24:t0]/6)+72 , A4.unsqueeze(1)*torch.sin(np.pi*x[t0:t0+24]/12)+72],1)"
   ]
  },
  {
   "cell_type": "code",
   "execution_count": 174,
   "metadata": {},
   "outputs": [
    {
     "data": {
      "image/png": "[encoded data removed]",
      "text/plain": [
       "<Figure size 432x288 with 1 Axes>"
      ]
     },
     "metadata": {
      "needs_background": "light"
     },
     "output_type": "display_data"
    }
   ],
   "source": [
    "plt.plot(x.numpy(),fx[3,:].numpy())\n",
    "plt.show()"
   ]
  },
  {
   "cell_type": "code",
   "execution_count": 146,
   "metadata": {},
   "outputs": [],
   "source": [
    "def chunk_time_series(t0,window_size,y):\n",
    "    window_size = t0+1\n",
    "    y_chunked = []\n",
    "    y_left = []\n",
    "    for t in range(0,fx.shape[1]-window_size):\n",
    "        y_chunked.append(y[:,t:t+window_size])\n",
    "        y_left.append(y[:,t+window_size])\n",
    "    return torch.cat(y_chunked,0),torch.cat(y_left)"
   ]
  },
  {
   "cell_type": "code",
   "execution_count": 83,
   "metadata": {},
   "outputs": [],
   "source": [
    "from torch.utils.data import Dataset"
   ]
  },
  {
   "cell_type": "code",
   "execution_count": 169,
   "metadata": {},
   "outputs": [],
   "source": [
    "class time_series(Dataset):\n",
    "    \"\"\"synthetic time series dataset from section 5.1\"\"\"\n",
    "    \n",
    "    def __init__(self,t0=96,window_size=96,N=4500,transform=None):\n",
    "        \"\"\"\n",
    "        Args:\n",
    "            t0: previous t0 data points to predict from\n",
    "            window_size: how many points to use for inference of next time point\n",
    "            N: number of data points\n",
    "            transform: any transformations to be applied to time series\n",
    "        \"\"\"\n",
    "        self.t0 = t0\n",
    "        self.window_size = window_size\n",
    "        self.N = 4500\n",
    "        self.transform = None\n",
    "        \n",
    "        A1,A2,A3 = 60 * torch.rand(3,10)\n",
    "        A4 = torch.max(A1,A2)\n",
    "\n",
    "        x = torch.arange(1,t0+24).type(torch.float).unsqueeze(0)\n",
    "        \n",
    "        fx = torch.cat([A1.unsqueeze(1)*torch.sin(np.pi*x[0,0:12]/6)+72 ,\n",
    "                        A2.unsqueeze(1)*torch.sin(np.pi*x[0,12:24]/6)+72 ,\n",
    "                        A3.unsqueeze(1)*torch.sin(np.pi*x[0,24:t0]/6)+72 ,\n",
    "                        A4.unsqueeze(1)*torch.sin(np.pi*x[0,t0:t0+24]/12)+72],1)\n",
    "        \n",
    "        self.x,self.x_next = chunk_time_series(t0,window_size,x)\n",
    "        self.fx,self.fx_next = chunk_time_series(t0,window_size,fx)\n",
    "        \n",
    "        \n",
    "    def __len__(self):\n",
    "        return len(self.fx)\n",
    "    \n",
    "    def __getitem__(self,idx):\n",
    "        if torch.is_tensor(idx):\n",
    "            idx = idx.tolist()\n",
    "            \n",
    "        sample = {\"x\":self.x[idx,:],\"x_next\":self.x_next[idx],\"fx\":self.fx[idx,:],\"fx_next\":self.fx_next[idx]}\n",
    "        \n",
    "        \n",
    "        if self.transform:\n",
    "            sample=self.transform(sample)\n",
    "            \n",
    "        return sample"
   ]
  },
  {
   "cell_type": "code",
   "execution_count": 170,
   "metadata": {},
   "outputs": [],
   "source": [
    "dataset = time_series(t0,window_size,100)"
   ]
  },
  {
   "cell_type": "code",
   "execution_count": 177,
   "metadata": {},
   "outputs": [
    {
     "data": {
      "text/plain": [
       "{'x': tensor([[ 1.,  2.,  3.,  4.,  5.,  6.,  7.,  8.,  9., 10., 11., 12., 13., 14.,\n",
       "          15., 16., 17., 18., 19., 20., 21., 22., 23., 24., 25., 26., 27., 28.,\n",
       "          29., 30., 31., 32., 33., 34., 35., 36., 37., 38., 39., 40., 41., 42.,\n",
       "          43., 44., 45., 46., 47., 48., 49., 50., 51., 52., 53., 54., 55., 56.,\n",
       "          57., 58., 59., 60., 61., 62., 63., 64., 65., 66., 67., 68., 69., 70.,\n",
       "          71., 72., 73., 74., 75., 76., 77., 78., 79., 80., 81., 82., 83., 84.,\n",
       "          85., 86., 87., 88., 89., 90., 91., 92., 93., 94., 95., 96., 97.],\n",
       "         [ 2.,  3.,  4.,  5.,  6.,  7.,  8.,  9., 10., 11., 12., 13., 14., 15.,\n",
       "          16., 17., 18., 19., 20., 21., 22., 23., 24., 25., 26., 27., 28., 29.,\n",
       "          30., 31., 32., 33., 34., 35., 36., 37., 38., 39., 40., 41., 42., 43.,\n",
       "          44., 45., 46., 47., 48., 49., 50., 51., 52., 53., 54., 55., 56., 57.,\n",
       "          58., 59., 60., 61., 62., 63., 64., 65., 66., 67., 68., 69., 70., 71.,\n",
       "          72., 73., 74., 75., 76., 77., 78., 79., 80., 81., 82., 83., 84., 85.,\n",
       "          86., 87., 88., 89., 90., 91., 92., 93., 94., 95., 96., 97., 98.]]),\n",
       " 'x_next': tensor([98., 99.]),\n",
       " 'fx': tensor([[ 83.8305,  92.4911,  95.6610,  92.4911,  83.8305,  72.0000,  60.1695,\n",
       "           51.5089,  48.3390,  51.5089,  60.1695,  72.0000,  86.1880,  96.5743,\n",
       "          100.3760,  96.5743,  86.1880,  72.0000,  57.8120,  47.4257,  43.6240,\n",
       "           47.4257,  57.8120,  72.0000,  81.3068,  88.1198,  90.6135,  88.1198,\n",
       "           81.3068,  72.0000,  62.6932,  55.8802,  53.3865,  55.8802,  62.6933,\n",
       "           72.0000,  81.3068,  88.1198,  90.6135,  88.1198,  81.3067,  72.0000,\n",
       "           62.6932,  55.8802,  53.3865,  55.8802,  62.6933,  72.0000,  81.3068,\n",
       "           88.1198,  90.6135,  88.1198,  81.3068,  72.0000,  62.6932,  55.8802,\n",
       "           53.3865,  55.8802,  62.6933,  72.0000,  81.3068,  88.1198,  90.6135,\n",
       "           88.1198,  81.3068,  72.0000,  62.6932,  55.8802,  53.3865,  55.8802,\n",
       "           62.6933,  72.0000,  81.3068,  88.1198,  90.6135,  88.1198,  81.3068,\n",
       "           72.0000,  62.6932,  55.8802,  53.3865,  55.8802,  62.6932,  72.0000,\n",
       "           81.3067,  88.1198,  90.6135,  88.1198,  81.3067,  72.0000,  62.6932,\n",
       "           55.8802,  53.3865,  55.8803,  62.6933,  72.0000,  79.3442],\n",
       "         [ 95.2399, 112.2526, 118.4797, 112.2526,  95.2398,  72.0000,  48.7601,\n",
       "           31.7474,  25.5203,  31.7474,  48.7602,  72.0000,  94.3847, 110.7714,\n",
       "          116.7693, 110.7713,  94.3846,  72.0000,  49.6154,  33.2286,  27.2307,\n",
       "           33.2287,  49.6153,  72.0000,  94.3819, 110.7665, 116.7637, 110.7665,\n",
       "           94.3819,  72.0000,  49.6182,  33.2335,  27.2363,  33.2335,  49.6182,\n",
       "           72.0000,  94.3819, 110.7665, 116.7637, 110.7665,  94.3818,  71.9999,\n",
       "           49.6181,  33.2335,  27.2363,  33.2335,  49.6182,  72.0000,  94.3819,\n",
       "          110.7665, 116.7637, 110.7665,  94.3819,  71.9999,  49.6181,  33.2334,\n",
       "           27.2363,  33.2335,  49.6182,  72.0000,  94.3819, 110.7665, 116.7637,\n",
       "          110.7665,  94.3819,  71.9999,  49.6181,  33.2335,  27.2363,  33.2335,\n",
       "           49.6182,  72.0000,  94.3820, 110.7666, 116.7637, 110.7665,  94.3819,\n",
       "           71.9999,  49.6181,  33.2334,  27.2363,  33.2335,  49.6181,  72.0001,\n",
       "           94.3818, 110.7665, 116.7637, 110.7665,  94.3818,  72.0000,  49.6180,\n",
       "           33.2335,  27.2363,  33.2336,  49.6182,  72.0001,  84.0298]]),\n",
       " 'fx_next': tensor([86.1880, 95.2399])}"
      ]
     },
     "execution_count": 177,
     "metadata": {},
     "output_type": "execute_result"
    }
   ],
   "source": [
    "dataset[0:2]"
   ]
  }
 ],
 "metadata": {
  "kernelspec": {
   "display_name": "Python 3",
   "language": "python",
   "name": "python3"
  },
  "language_info": {
   "codemirror_mode": {
    "name": "ipython",
    "version": 3
   },
   "file_extension": ".py",
   "mimetype": "text/x-python",
   "name": "python",
   "nbconvert_exporter": "python",
   "pygments_lexer": "ipython3",
   "version": "3.7.3"
  }
 },
 "nbformat": 4,
 "nbformat_minor": 4
}
